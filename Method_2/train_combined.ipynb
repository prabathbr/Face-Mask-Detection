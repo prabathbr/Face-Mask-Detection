{
 "cells": [
  {
   "cell_type": "code",
   "execution_count": 1,
   "id": "virtual-optimum",
   "metadata": {},
   "outputs": [],
   "source": [
    "# GPU Reset if needed\n",
    "\n",
    "from numba import cuda \n",
    "device = cuda.get_current_device()\n",
    "device.reset()"
   ]
  },
  {
   "cell_type": "code",
   "execution_count": 2,
   "id": "orange-jacksonville",
   "metadata": {},
   "outputs": [],
   "source": [
    "# Parameters\n",
    "\n",
    "base_directory = \"i:/image_classify/\" # base directory\n",
    "image_directory = base_directory + \"dataset_cleaned_part1\" # image directory\n",
    "image_size  = (224, 224) # preprocessing image size for model input to match with input_tensor in the model\n",
    "classify_names = [\"type1_male\", \"type2_male\", \"type3_male\", \"type4_male\",\"type1_female\", \"type2_female\", \"type3_female\", \"type4_female\"] # class names to be classified into (same as sub folder names with images in different classes)\n",
    "\n",
    "batch_size = 25 # number of images per batch to be processed\n",
    "\n",
    "shuffle_value = True # whether to shuffle the input images\n",
    "seed_value = 1337 # seed value to input image pipeline\n",
    "epochs = 50 # number of maximum epochs to run"
   ]
  },
  {
   "cell_type": "code",
   "execution_count": 3,
   "id": "centered-maria",
   "metadata": {},
   "outputs": [
    {
     "name": "stdout",
     "output_type": "stream",
     "text": [
      "base directory : i:\\image_classify\n"
     ]
    }
   ],
   "source": [
    "# Change to base directory\n",
    "\n",
    "import os\n",
    "os.chdir(base_directory)\n",
    "print(\"base directory : \" + os.getcwd())"
   ]
  },
  {
   "cell_type": "code",
   "execution_count": 4,
   "id": "original-edition",
   "metadata": {},
   "outputs": [
    {
     "name": "stdout",
     "output_type": "stream",
     "text": [
      "TensorFlow version : 2.9.0-dev20220102\n"
     ]
    }
   ],
   "source": [
    "# Import Tensorflow and related libraries\n",
    "\n",
    "import tensorflow\n",
    "\n",
    "from tensorflow.keras.models import Model\n",
    "from tensorflow.keras.layers import Dense\n",
    "from tensorflow.keras.layers import Flatten\n",
    "from tensorflow.keras.layers import Dropout\n",
    "\n",
    "from tensorflow.keras.layers import Input\n",
    "from tensorflow.keras.layers import Concatenate\n",
    "\n",
    "\n",
    "from tensorflow.keras.models import load_model\n",
    "from tensorflow.keras.utils import plot_model\n",
    "\n",
    "print(\"TensorFlow version : \" + tensorflow.__version__)"
   ]
  },
  {
   "cell_type": "code",
   "execution_count": 5,
   "id": "continuing-auditor",
   "metadata": {},
   "outputs": [
    {
     "name": "stdout",
     "output_type": "stream",
     "text": [
      "Name: /physical_device:GPU:0   Type: GPU\n"
     ]
    }
   ],
   "source": [
    "# Display available GPUs\n",
    "\n",
    "physical_devices = tensorflow.config.list_physical_devices('GPU')\n",
    "for gpu in physical_devices:\n",
    "    print(\"Name:\", gpu.name, \"  Type:\", gpu.device_type)"
   ]
  },
  {
   "cell_type": "code",
   "execution_count": 6,
   "id": "federal-struggle",
   "metadata": {},
   "outputs": [],
   "source": [
    "# Enable Memory Growth\n",
    "\n",
    "if physical_devices != []:\n",
    "    tensorflow.config.experimental.set_memory_growth(physical_devices[0], True)\n",
    "    physical_devices[0]"
   ]
  },
  {
   "cell_type": "code",
   "execution_count": 7,
   "id": "purple-hindu",
   "metadata": {},
   "outputs": [
    {
     "name": "stdout",
     "output_type": "stream",
     "text": [
      "Found 26783 files belonging to 8 classes.\n",
      "Using 18749 files for training.\n",
      "Found 26783 files belonging to 8 classes.\n",
      "Using 8034 files for validation.\n"
     ]
    }
   ],
   "source": [
    "# Create pipeline to load images\n",
    "\n",
    "train_ds = tensorflow.keras.preprocessing.image_dataset_from_directory( # train image dataset\n",
    "    image_directory,\n",
    "    labels='inferred', \n",
    "    label_mode='int',\n",
    "    class_names=classify_names,     \n",
    "    validation_split=0.3,\n",
    "    subset=\"training\",\n",
    "    shuffle=shuffle_value,\n",
    "    seed=seed_value,\n",
    "    image_size=image_size,\n",
    "    batch_size=batch_size,\n",
    ")\n",
    "\n",
    "val_ds = tensorflow.keras.preprocessing.image_dataset_from_directory( # validation image dataset\n",
    "    image_directory,\n",
    "    labels='inferred', \n",
    "    label_mode='int', \n",
    "    class_names=classify_names,    \n",
    "    validation_split=0.3,\n",
    "    subset=\"validation\",\n",
    "    shuffle=shuffle_value,\n",
    "    seed=seed_value,\n",
    "    image_size=image_size,\n",
    "    batch_size=batch_size,\n",
    ")\n",
    "\n",
    "train_ds = train_ds.prefetch(buffer_size=32)\n",
    "val_ds = val_ds.prefetch(buffer_size=32)"
   ]
  },
  {
   "cell_type": "code",
   "execution_count": 8,
   "id": "scheduled-poverty",
   "metadata": {},
   "outputs": [],
   "source": [
    "# Train data augmentation to get more variations\n",
    "\n",
    "data_augmentation = tensorflow.keras.Sequential(\n",
    "    [\n",
    "        tensorflow.keras.layers.experimental.preprocessing.RandomFlip(\"horizontal\"), # horizontal flipping\n",
    "        tensorflow.keras.layers.experimental.preprocessing.RandomRotation(0.1),     # random rotation\n",
    "    ]\n",
    ")\n",
    "\n",
    "augmented_train_ds = train_ds.map( lambda x, y: (data_augmentation(x, training=True), y)) # get the augemted training data pipeline\n"
   ]
  },
  {
   "cell_type": "code",
   "execution_count": 9,
   "id": "secondary-material",
   "metadata": {},
   "outputs": [
    {
     "name": "stdout",
     "output_type": "stream",
     "text": [
      "Model: \"identify\"\n",
      "__________________________________________________________________________________________________\n",
      " Layer (type)                   Output Shape         Param #     Connected to                     \n",
      "==================================================================================================\n",
      " input_1 (InputLayer)           [(None, 224, 224, 3  0           []                               \n",
      "                                )]                                                                \n",
      "                                                                                                  \n",
      " gender (Functional)            (None, 2)            26737538    ['input_1[0][0]']                \n",
      "                                                                                                  \n",
      " type (Functional)              (None, 4)            26739588    ['input_1[0][0]']                \n",
      "                                                                                                  \n",
      " concatenate (Concatenate)      (None, 6)            0           ['gender[0][0]',                 \n",
      "                                                                  'type[0][0]']                   \n",
      "                                                                                                  \n",
      " dense (Dense)                  (None, 8)            56          ['concatenate[0][0]']            \n",
      "                                                                                                  \n",
      "==================================================================================================\n",
      "Total params: 53,477,182\n",
      "Trainable params: 56\n",
      "Non-trainable params: 53,477,126\n",
      "__________________________________________________________________________________________________\n",
      "0 input_1 True\n",
      "1 gender False\n",
      "2 type False\n",
      "3 concatenate True\n",
      "4 dense True\n",
      "WARNING:tensorflow:Compiled the loaded model, but the compiled metrics have yet to be built. `model.compile_metrics` will be empty until you train or evaluate the model.\n"
     ]
    }
   ],
   "source": [
    "# Using CPU and RAM, combining \"type\" and \"gender\" models together and save\n",
    "# This is only done to overcome limited 3 GB VRAM of GTX1060 3GB\n",
    "\n",
    "with tensorflow.device('/cpu:0'):\n",
    "    models1 = load_model('gender.h5')\n",
    "    models1._name = \"gender\"\n",
    "    \n",
    "    models2 = load_model('type.h5')\n",
    "    models2._name = \"type\"\n",
    "\n",
    "    input_tensor = Input((224, 224, 3))\n",
    "    output_tensor = [models1(input_tensor) , models2(input_tensor)]\n",
    "    concat1 = Concatenate()(output_tensor) \n",
    "    dense1 = Dense(8, activation='softmax')(concat1)    \n",
    "    output = dense1\n",
    "\n",
    "    combined_model = Model(inputs=input_tensor, outputs=output)\n",
    "    combined_model._name = \"identify\"\n",
    "\n",
    "    for layer in combined_model.layers:\n",
    "        if layer.name == \"gender\":\n",
    "            layer.trainable = False\n",
    "        if layer.name == \"type\":\n",
    "            layer.trainable = False            \n",
    "\n",
    "    combined_model.summary() \n",
    "\n",
    "    plot_model(combined_model, to_file='combined.png', show_shapes=True, show_layer_names=True)\n",
    "        \n",
    "    for i, layer in enumerate(combined_model.layers):\n",
    "        print(i, layer.name, layer.trainable)\n",
    "    \n",
    "    combined_model.save(\"combined.h5\")  \n"
   ]
  },
  {
   "cell_type": "code",
   "execution_count": 10,
   "id": "acting-midwest",
   "metadata": {},
   "outputs": [
    {
     "name": "stdout",
     "output_type": "stream",
     "text": [
      "WARNING:tensorflow:No training configuration found in the save file, so the model was *not* compiled. Compile it manually.\n",
      "Model: \"identify\"\n",
      "_________________________________________________________________\n",
      " Layer (type)                Output Shape              Param #   \n",
      "=================================================================\n",
      " input_2 (InputLayer)        [(None, 224, 224, 3)]     0         \n",
      "                                                                 \n",
      " combined (Functional)       (None, 8)                 53477182  \n",
      "                                                                 \n",
      "=================================================================\n",
      "Total params: 53,477,182\n",
      "Trainable params: 56\n",
      "Non-trainable params: 53,477,126\n",
      "_________________________________________________________________\n"
     ]
    },
    {
     "data": {
      "image/png": "[encoded data removed]",
      "text/plain": [
       "<IPython.core.display.Image object>"
      ]
     },
     "execution_count": 10,
     "metadata": {},
     "output_type": "execute_result"
    }
   ],
   "source": [
    "# Load the saved combined model\n",
    "\n",
    "saved_model = load_model('combined.h5')\n",
    "saved_model._name = \"combined\"\n",
    "\n",
    "# Create a model with inpots and outputs to evaluate\n",
    "input_tensor = Input((224, 224, 3))\n",
    "model = Model(inputs=input_tensor, outputs=saved_model(input_tensor))\n",
    "model._name = \"identify\"\n",
    "model.summary()\n",
    "\n",
    "# Save the model as a png file\n",
    "plot_model(model, to_file=model._name +'.png', show_shapes=True, show_layer_names=True)"
   ]
  },
  {
   "cell_type": "code",
   "execution_count": 11,
   "id": "stuck-dispatch",
   "metadata": {},
   "outputs": [
    {
     "name": "stdout",
     "output_type": "stream",
     "text": [
      "0 input_2 True\n",
      "1 combined True\n"
     ]
    }
   ],
   "source": [
    "# Show the trainable status of the layers\n",
    "\n",
    "for i, layer in enumerate(model.layers):\n",
    "    print(i, layer.name, layer.trainable)"
   ]
  },
  {
   "cell_type": "code",
   "execution_count": 12,
   "id": "manufactured-niagara",
   "metadata": {},
   "outputs": [],
   "source": [
    "# Compile the model\n",
    "\n",
    "model.compile(\n",
    "    optimizer=tensorflow.keras.optimizers.Adam(1e-3),\n",
    "    loss=\"sparse_categorical_crossentropy\",\n",
    "    metrics=[\"accuracy\"],\n",
    ")"
   ]
  },
  {
   "cell_type": "code",
   "execution_count": 13,
   "id": "passing-chambers",
   "metadata": {},
   "outputs": [],
   "source": [
    "# Tensorboard parameters\n",
    "\n",
    "import datetime\n",
    "log_dir = \"logs/fit/\" + datetime.datetime.now().strftime(\"%Y%m%d-%H%M%S\")\n",
    "tensorboard_callback = tensorflow.keras.callbacks.TensorBoard(log_dir=log_dir, histogram_freq=1)"
   ]
  },
  {
   "cell_type": "code",
   "execution_count": 14,
   "id": "diagnostic-hydrogen",
   "metadata": {},
   "outputs": [],
   "source": [
    "# Use best weights for the model\n",
    "\n",
    "early_stopping_monitor = tensorflow.keras.callbacks.EarlyStopping(\n",
    "    monitor='val_accuracy',\n",
    "    min_delta=0,\n",
    "    patience=6,\n",
    "    verbose=0,\n",
    "    mode='max',\n",
    "    baseline=None,\n",
    "    restore_best_weights=True\n",
    ")"
   ]
  },
  {
   "cell_type": "code",
   "execution_count": 15,
   "id": "unlike-ballot",
   "metadata": {},
   "outputs": [
    {
     "name": "stdout",
     "output_type": "stream",
     "text": [
      "Epoch 1/50\n",
      "750/750 [==============================] - 276s 356ms/step - loss: 1.6050 - accuracy: 0.5242 - val_loss: 1.0653 - val_accuracy: 0.8999\n",
      "Epoch 2/50\n",
      "750/750 [==============================] - 263s 348ms/step - loss: 0.8056 - accuracy: 0.8935 - val_loss: 0.5987 - val_accuracy: 0.9488\n",
      "Epoch 3/50\n",
      "750/750 [==============================] - 244s 322ms/step - loss: 0.4946 - accuracy: 0.9459 - val_loss: 0.4011 - val_accuracy: 0.9511\n",
      "Epoch 4/50\n",
      "750/750 [==============================] - 244s 322ms/step - loss: 0.3535 - accuracy: 0.9458 - val_loss: 0.3065 - val_accuracy: 0.9510\n",
      "Epoch 5/50\n",
      "750/750 [==============================] - 244s 322ms/step - loss: 0.2896 - accuracy: 0.9451 - val_loss: 0.2578 - val_accuracy: 0.9512\n",
      "Epoch 6/50\n",
      "750/750 [==============================] - 243s 322ms/step - loss: 0.2510 - accuracy: 0.9466 - val_loss: 0.2304 - val_accuracy: 0.9512\n",
      "Epoch 7/50\n",
      "750/750 [==============================] - 243s 321ms/step - loss: 0.2328 - accuracy: 0.9450 - val_loss: 0.2157 - val_accuracy: 0.9513\n",
      "Epoch 8/50\n",
      "750/750 [==============================] - 244s 323ms/step - loss: 0.2085 - accuracy: 0.9488 - val_loss: 0.2063 - val_accuracy: 0.9512\n",
      "Epoch 9/50\n",
      "750/750 [==============================] - 245s 324ms/step - loss: 0.2056 - accuracy: 0.9469 - val_loss: 0.2008 - val_accuracy: 0.9513\n",
      "Epoch 10/50\n",
      "750/750 [==============================] - 249s 329ms/step - loss: 0.2046 - accuracy: 0.9460 - val_loss: 0.1981 - val_accuracy: 0.9512\n",
      "Epoch 11/50\n",
      "750/750 [==============================] - 250s 330ms/step - loss: 0.1909 - accuracy: 0.9479 - val_loss: 0.1957 - val_accuracy: 0.9512\n",
      "Epoch 12/50\n",
      "750/750 [==============================] - 245s 324ms/step - loss: 0.1919 - accuracy: 0.9493 - val_loss: 0.1940 - val_accuracy: 0.9513\n",
      "Epoch 13/50\n",
      "750/750 [==============================] - 248s 328ms/step - loss: 0.1939 - accuracy: 0.9473 - val_loss: 0.1939 - val_accuracy: 0.9510\n"
     ]
    },
    {
     "data": {
      "text/plain": [
       "<keras.callbacks.History at 0x1b6ef45cb20>"
      ]
     },
     "execution_count": 15,
     "metadata": {},
     "output_type": "execute_result"
    }
   ],
   "source": [
    "# Training the model\n",
    "\n",
    "model.fit(\n",
    "    augmented_train_ds, epochs=epochs, callbacks=[early_stopping_monitor, tensorboard_callback], validation_data=val_ds,\n",
    "    )\n"
   ]
  },
  {
   "cell_type": "code",
   "execution_count": 16,
   "id": "apart-christian",
   "metadata": {},
   "outputs": [
    {
     "data": {
      "text/plain": [
       "Reusing TensorBoard on port 6006 (pid 20472), started 2:26:21 ago. (Use '!kill 20472' to kill it.)"
      ]
     },
     "metadata": {},
     "output_type": "display_data"
    },
    {
     "data": {
      "text/html": [
       "\n",
       "      <iframe id=\"tensorboard-frame-1d706d64b2cf7166\" width=\"100%\" height=\"800\" frameborder=\"0\">\n",
       "      </iframe>\n",
       "      <script>\n",
       "        (function() {\n",
       "          const frame = document.getElementById(\"tensorboard-frame-1d706d64b2cf7166\");\n",
       "          const url = new URL(\"/\", window.location);\n",
       "          const port = 6006;\n",
       "          if (port) {\n",
       "            url.port = port;\n",
       "          }\n",
       "          frame.src = url;\n",
       "        })();\n",
       "      </script>\n",
       "    "
      ],
      "text/plain": [
       "<IPython.core.display.HTML object>"
      ]
     },
     "metadata": {},
     "output_type": "display_data"
    }
   ],
   "source": [
    "# Show tensorboard\n",
    "\n",
    "%load_ext tensorboard\n",
    "%tensorboard --logdir logs/fit\n",
    "#%reload_ext tensorboard # just in case tensorboard didn't refresh\n"
   ]
  },
  {
   "cell_type": "code",
   "execution_count": 17,
   "id": "electoral-arrangement",
   "metadata": {},
   "outputs": [],
   "source": [
    "# Calculate preditions for the validation dataset\n",
    "\n",
    "import numpy as np\n",
    "\n",
    "y_pred = []  # store predicted labels\n",
    "y_true = []  # store true labels\n",
    "\n",
    "for image_batch, label_batch in val_ds:\n",
    "    y_true.append(label_batch)\n",
    "    preds = model.predict(image_batch)\n",
    "    y_pred.append(np.argmax(preds, axis = - 1))\n",
    "\n",
    "# Convert the true and predicted labels into tensors\n",
    "true_categories = tensorflow.concat([item for item in y_true], axis = 0)\n",
    "predicted_categories = tensorflow.concat([item for item in y_pred], axis = 0)"
   ]
  },
  {
   "cell_type": "code",
   "execution_count": 18,
   "id": "olive-filling",
   "metadata": {},
   "outputs": [],
   "source": [
    "# Generate confusion matrix\n",
    "\n",
    "from sklearn.metrics import confusion_matrix\n",
    "\n",
    "cnf_matrix = confusion_matrix(true_categories,predicted_categories, normalize='pred')"
   ]
  },
  {
   "cell_type": "code",
   "execution_count": 19,
   "id": "global-egyptian",
   "metadata": {},
   "outputs": [
    {
     "data": {
      "image/png": "[encoded data removed]",
      "text/plain": [
       "<Figure size 432x288 with 2 Axes>"
      ]
     },
     "metadata": {
      "needs_background": "light"
     },
     "output_type": "display_data"
    }
   ],
   "source": [
    "# Plot confusion matrix\n",
    "\n",
    "import matplotlib.pyplot as plt\n",
    "from sklearn.metrics import ConfusionMatrixDisplay\n",
    "\n",
    "disp = ConfusionMatrixDisplay(confusion_matrix=cnf_matrix,\n",
    "                              display_labels=classify_names)\n",
    "\n",
    "disp = disp.plot(cmap='Blues', xticks_rotation=45)\n",
    "\n",
    "plt.show()"
   ]
  },
  {
   "cell_type": "code",
   "execution_count": 20,
   "id": "98419cc7",
   "metadata": {},
   "outputs": [
    {
     "name": "stdout",
     "output_type": "stream",
     "text": [
      "Accuracy for validation split:  0.9513318396813543\n",
      "F1_score: 0.9513318396813543\n"
     ]
    }
   ],
   "source": [
    "# Display accuracy information\n",
    "\n",
    "from sklearn.metrics import accuracy_score, f1_score\n",
    "\n",
    "print(\"Accuracy for validation split: \" ,accuracy_score(true_categories, predicted_categories))\n",
    "print( \"F1_score: \" + str(f1_score(true_categories, predicted_categories, average='micro')))"
   ]
  },
  {
   "cell_type": "code",
   "execution_count": 21,
   "id": "mounted-dining",
   "metadata": {},
   "outputs": [],
   "source": [
    "# Rename model weights to overome bug in Tensorflow 2.3\n",
    "\n",
    "for i in range(len(model.weights)):\n",
    "    model.weights[i]._handle_name = model.weights[i].name + \"_\" + str(i)"
   ]
  },
  {
   "cell_type": "code",
   "execution_count": 22,
   "id": "electrical-heath",
   "metadata": {},
   "outputs": [],
   "source": [
    "# Making finally trained layer to untrainable before saving\n",
    "\n",
    "for layer in model.layers:\n",
    "    if layer.name == \"combined\":\n",
    "        layer.trainable = False"
   ]
  },
  {
   "cell_type": "code",
   "execution_count": 23,
   "id": "chemical-columbus",
   "metadata": {},
   "outputs": [],
   "source": [
    "# Saving final model for future use\n",
    "\n",
    "model.save(\"identify_final.h5\")"
   ]
  },
  {
   "cell_type": "code",
   "execution_count": null,
   "id": "understanding-ghana",
   "metadata": {},
   "outputs": [],
   "source": []
  }
 ],
 "metadata": {
  "kernelspec": {
   "display_name": "Python 3.9 (Tensorflow 2.6)",
   "language": "python",
   "name": "tf2"
  },
  "language_info": {
   "codemirror_mode": {
    "name": "ipython",
    "version": 3
   },
   "file_extension": ".py",
   "mimetype": "text/x-python",
   "name": "python",
   "nbconvert_exporter": "python",
   "pygments_lexer": "ipython3",
   "version": "3.9.7"
  }
 },
 "nbformat": 4,
 "nbformat_minor": 5
}
